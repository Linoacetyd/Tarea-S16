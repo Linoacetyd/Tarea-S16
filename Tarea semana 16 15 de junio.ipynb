{
 "cells": [
  {
   "cell_type": "markdown",
   "id": "b959da1b",
   "metadata": {},
   "source": [
    "## Tarea de Semana 16 - Física Computacional I\n",
    "\n",
    "### Bryaton Chaves Cordero, 2019063840\n",
    "\n",
    "### Diego Obando Fonseca, 2019064598\n",
    "\n",
    "#### 15 de Junio, 2022"
   ]
  },
  {
   "cell_type": "markdown",
   "id": "e9032122",
   "metadata": {},
   "source": [
    "# --------------------------------------- Parte 1 --------------------------------------------------------"
   ]
  },
  {
   "cell_type": "markdown",
   "id": "1ca0b288",
   "metadata": {},
   "source": [
    "## Entender el problema\n",
    "\n",
    "Se nos pide resolver el algoritmo del comprador ambulante el cual consiste en encontrar la ruta mas corta entre un número determinado de ciudades. Para ello se utilizará una versión modificada del algoritmo de mutación genética, que incluye el uso de una función de ajuste y una selección aleatoria."
   ]
  },
  {
   "cell_type": "markdown",
   "id": "7f0fb0da",
   "metadata": {},
   "source": [
    "## Crear un plan\n",
    "\n",
    "Se creará un conjunto de datos que representan 100 ciudades, y se establecen los valores de sus coordenadas según las funciones dadas:\n",
    "\n",
    "$x_i = 0.1 [(9+13*i^2)*mod200]$\n",
    "\n",
    "$y_i = 0.1 [(7+1327*i)*mod200]$\n",
    "\n",
    "con i = iésima ciudad\n",
    "\n",
    "Mediante una función que sume la distancia del conjunto de datos en cada ciudad consecutiva, podemos encontra la distancia mínima del sistema. Luego se usará esta misma idea para calcular la distancia de cada conjunto observado luego de realizar la mutación, lo que debería tener una magnitud cada vez menor."
   ]
  },
  {
   "cell_type": "markdown",
   "id": "3124e78d",
   "metadata": {},
   "source": [
    "## Ejecutar el plan"
   ]
  },
  {
   "cell_type": "code",
   "execution_count": 43,
   "id": "4ebdefeb",
   "metadata": {},
   "outputs": [],
   "source": [
    "import numpy as np\n",
    "import matplotlib.pyplot as plt\n",
    "import math"
   ]
  },
  {
   "cell_type": "code",
   "execution_count": 44,
   "id": "2ffbf29e",
   "metadata": {},
   "outputs": [
    {
     "name": "stdout",
     "output_type": "stream",
     "text": [
      "[71 20 30 37 90 98  7 63 45 14 73 47 84 11  0 17 65  2 42  1 34 81 16 26\n",
      "  5 86 46 67 79 89 78 75 70 56 13 48 77 49 21 99 50  3 91  6 51 15 85 23\n",
      " 82 31 59 18  8 88  4 69 58 54 25 29 93 83 57 10 39 95 28 72 53 27 97 62\n",
      "  9 74 94 41 87 96 40 66 92 55 36 60 38 61 43 24 52 68 22 12 76 32 19 44\n",
      " 80 33 35 64]\n"
     ]
    }
   ],
   "source": [
    "# Crear los 2 cromosomas con 100 ciudades\n",
    "cromosoma_1 = np.random.choice(range(100) , size = 100 , replace=False)\n",
    "\n",
    "print(cromosoma_1)"
   ]
  },
  {
   "cell_type": "code",
   "execution_count": 45,
   "id": "a2b13b3b",
   "metadata": {},
   "outputs": [
    {
     "name": "stdout",
     "output_type": "stream",
     "text": [
      "0.9756790758494931\n",
      "1.3928132847838295\n"
     ]
    }
   ],
   "source": [
    "xi=[] #Para guardar las coordenadas de X en todos las ciudades y en orden del conjunto\n",
    "yi=[] #Para guardar las coordenadas de Y en todos las ciudades y en orden del conjunto\n",
    "\n",
    "#De la ciudad 1 a la 100 (ya que no hay una ciudad 0)\n",
    "for i in range(1,101):\n",
    "    xi = np.append(xi, (0.1*(9+13*i**2)%(200)))\n",
    "    yi = np.append(yi, (0.1*(7+1327*i)%(200)))\n",
    "    \n",
    "#Fórmula para el valor mínimo esperado según el orden de las ciudades\n",
    "F_ajuste=[]\n",
    "for i  in range(-1,99):\n",
    "    F_ajuste.append(1/(np.sqrt((xi[i+1]-xi[i])**2+(yi[i+1]-yi[i])**2)))\n",
    "\n",
    "suma = np.sum(F_ajuste)\n",
    "print(suma)\n",
    "\n",
    "\n",
    "#El inverso de la longitud euclideana, donde se toma el conjunto aleatorio\n",
    "F_ajuste=[]\n",
    "for i  in range(-1,99):\n",
    "    F_ajuste.append(1/(np.sqrt((xi[cromosoma_1[i+1]]-xi[cromosoma_1[i]])**2+(yi[cromosoma_1[i+1]]-yi[cromosoma_1[i]])**2)))\n",
    "\n",
    "    \n",
    "#La suma de todos los FAjuste que se calcularon la fórmula de la longitud euclideana\n",
    "suma = np.sum(F_ajuste)\n",
    "print(suma)"
   ]
  },
  {
   "cell_type": "code",
   "execution_count": 46,
   "id": "1f18c7d1",
   "metadata": {},
   "outputs": [
    {
     "name": "stdout",
     "output_type": "stream",
     "text": [
      "[71 20 30 37 90 98  7 63 45 14 73 47 84 11  0 17 65  2 42  1 34 81 16 26\n",
      "  5 86 46 67 79 89 78 75 70 56 13 48 77 49 21 99 50  3 91  6 51 15 85 23\n",
      " 82 31 59 18  8 88  4 69 58 54 25 29 93 83 57 10 39 95 28 72 53 27 97 62\n",
      "  9 74 94 41 87 96 40 66 92 55 36 60 38 61 43 24 52 68 22 12 76 32 19 44\n",
      " 80 33 35 64]\n",
      "[71 20 30 37 90 98  7 63 45 14 73 47 84 11  0 17 65  2 42  1 34 81 16 26\n",
      "  5 86 46 67 79 89 78 75 70 56 13 48 77 49 21 99 50  3 87  6 51 15 85 23\n",
      " 82 31 59 18  8 88  4 69 58 54 25 29 93 83 57 10 39 95 28 72 53 27 97 62\n",
      "  9 74 94 41 91 96 40 66 92 55 36 60 38 61 43 24 52 68 22 12 76 32 19 44\n",
      " 80 33 35 64]\n",
      "42 76 91 87\n"
     ]
    }
   ],
   "source": [
    "#Operadores de mutación\n",
    "cromosoma_ev0=np.copy(cromosoma_1) #Guarda el cromosoma evolucionado, sin afectar el original\n",
    "\n",
    "x = np.random.randint(0,100) #Primer dato del conjunto seleccionado\n",
    "a = cromosoma_1[x]           #Guarda la primer selección\n",
    "y = np.random.randint(0,100) #Segundo dato del conjunto seleccionado\n",
    "b = cromosoma_1[y]           #Guarda la segunda selección\n",
    "\n",
    "#Se invierten los valores\n",
    "cromosoma_ev0[x] = b\n",
    "cromosoma_ev0[y] = a\n",
    "\n",
    "#Para comparación se imprime el cromosoma original\n",
    "print(cromosoma_1)\n",
    "#Cromosoma mutado\n",
    "print(cromosoma_ev0)\n",
    "#Posiciones que se invirtieron en x y y\n",
    "print(x,y,a,b)"
   ]
  },
  {
   "cell_type": "code",
   "execution_count": 47,
   "id": "348ebde9",
   "metadata": {},
   "outputs": [
    {
     "name": "stdout",
     "output_type": "stream",
     "text": [
      "1.3927250939422442\n"
     ]
    }
   ],
   "source": [
    "#La distancia entre los puntos sigue la misma fórmula que se usó anteriormente\n",
    "F_ajuste=[]\n",
    "for i  in range(-1,99):\n",
    "    F_ajuste.append(1/(np.sqrt((xi[cromosoma_ev0[i+1]]-xi[cromosoma_ev0[i]])**2+(yi[cromosoma_ev0[i+1]]-yi[cromosoma_ev0[i]])**2)))\n",
    "\n",
    "suma = np.sum(F_ajuste)\n",
    "print(suma)"
   ]
  },
  {
   "cell_type": "markdown",
   "id": "f50d5f45",
   "metadata": {},
   "source": [
    "Efectivamente se redujo la distancia, esto puede cambiar en cada iteración, pero por lo menos esta vez fue así, ahora se procede a generalizar el procedimiento para realizar una gráfica interactiva que permite ver el ajuste de los datos."
   ]
  },
  {
   "cell_type": "code",
   "execution_count": 48,
   "id": "936d4c65",
   "metadata": {},
   "outputs": [],
   "source": [
    "from ipywidgets import interactive\n",
    "from ipywidgets import fixed\n",
    "import ipywidgets as widgets\n",
    "from IPython.display import display"
   ]
  },
  {
   "cell_type": "code",
   "execution_count": 49,
   "id": "7e5ccfc3",
   "metadata": {},
   "outputs": [],
   "source": [
    "def Coordenadas(conjunto):\n",
    "    \n",
    "    xi=[] #Para guardar las coordenadas de X en todos las ciudades y en orden del conjunto\n",
    "    yi=[] #Para guardar las coordenadas de Y en todos las ciudades y en orden del conjunto\n",
    "\n",
    "    #De la ciudad 1 a la 100 (ya que no hay una ciudad 0)\n",
    "    for i in range(1,101):\n",
    "        xi = np.append(xi, (0.1*(9+13*i**2)%(200)))\n",
    "        yi = np.append(yi, (0.1*(7+1327*i)%(200)))\n",
    "        \n",
    "    return(xi,yi)"
   ]
  },
  {
   "cell_type": "code",
   "execution_count": 50,
   "id": "4ca61361",
   "metadata": {},
   "outputs": [],
   "source": [
    "def FAjuste(xi,yi,conjunto):\n",
    "    \n",
    "    #Función de ajuste, con entrada de cualquier conjunto de datos\n",
    "    \n",
    "    for i  in range(-1,99):\n",
    "        F_ajuste.append(0.1/(np.sqrt((xi[conjunto[i+1]]-xi[conjunto[i]])**2+(yi[conjunto[i+1]]-yi[conjunto[i]])**2)))\n",
    "\n",
    "    suma = np.sum(F_ajuste)\n",
    "    \n",
    "    #Retorna la suma de todos los F_Ajustes\n",
    "    return(suma)"
   ]
  },
  {
   "cell_type": "code",
   "execution_count": 51,
   "id": "7baf85eb",
   "metadata": {},
   "outputs": [],
   "source": [
    "def Evolucion(conjunto):\n",
    "    \n",
    "    #Función que realiza el cambio en dos genes de cualquier conjunto\n",
    "    cromosoma_ev0=np.copy(conjunto) #Guarda el cromosoma evolucionado, sin afectar el original\n",
    "\n",
    "    x = np.random.randint(0,100) #Primer dato del conjunto seleccionado\n",
    "    a = conjunto[x]           #Guarda la primer selección\n",
    "    y = np.random.randint(0,100) #Segundo dato del conjunto seleccionado\n",
    "    b = conjunto[y]           #Guarda la segunda selección\n",
    "\n",
    "    #Se invierten los valores\n",
    "    cromosoma_ev0[x] = b\n",
    "    cromosoma_ev0[y] = a\n",
    "    \n",
    "    #Retorna el conjunto modificado\n",
    "    return(cromosoma_ev0)"
   ]
  },
  {
   "cell_type": "code",
   "execution_count": 52,
   "id": "05d0e417",
   "metadata": {},
   "outputs": [
    {
     "data": {
      "application/vnd.jupyter.widget-view+json": {
       "model_id": "c01f27fa048f47e1ae350cc780270ab6",
       "version_major": 2,
       "version_minor": 0
      },
      "text/plain": [
       "interactive(children=(IntSlider(value=1, description='Número de simulaciones', max=50, min=1), Output()), _dom…"
      ]
     },
     "metadata": {},
     "output_type": "display_data"
    }
   ],
   "source": [
    "def Grafico_interactivo(xi,yi,conjunto,nSimulaciones):\n",
    "    ai, bi = Coordenadas(conjunto)\n",
    "    \n",
    "    X=[ai]\n",
    "    Y=[bi]\n",
    "    for i in range(nSimulaciones):\n",
    "        ev0 = Evolucion(conjunto)\n",
    "        X = []\n",
    "        Y = []\n",
    "        for i  in range(-1,99):\n",
    "            X = np.append(X,xi[ev0[i]])\n",
    "            Y = np.append(Y,yi[ev0[i]])\n",
    "        Ajuste = FAjuste(X,Y,ev0)\n",
    "    fig = plt.figure()\n",
    "    plt.xlabel('x (m)')\n",
    "    plt.ylabel('y (m)')\n",
    "    plt.plot(X, Y)\n",
    "    plt.title(\"Distribución de las ciudades según las coordenadas\")\n",
    "    plt.show()\n",
    "    \n",
    "    return\n",
    "\n",
    "\n",
    "y=interactive(Grafico_interactivo, xi=fixed(xi), yi=fixed(yi), conjunto = fixed(cromosoma_1), nSimulaciones=widgets.IntSlider(min=1.0, max=50, step=1.0, value=1.0, description='Número de simulaciones'))\n",
    "display(y)"
   ]
  },
  {
   "cell_type": "markdown",
   "id": "c600d7b6",
   "metadata": {},
   "source": [
    "## Mirar hacia atrás"
   ]
  },
  {
   "cell_type": "markdown",
   "id": "b44c94d1",
   "metadata": {},
   "source": [
    "Se cumplieron los objetivos de la primer parte, los cambios aleatorios tienden a un cambio normal en el conjunto, entre más muestras se manejen menor será el error entre el promedio muestral y el verdadero, por lo que se obtener líneas cada vez más centradas nos indica que se están acercando a un valor menor de la distancia."
   ]
  },
  {
   "cell_type": "markdown",
   "id": "392f9974",
   "metadata": {},
   "source": [
    "El link para descargar el código en GitHub es el siguiente:\n",
    "\n"
   ]
  }
 ],
 "metadata": {
  "kernelspec": {
   "display_name": "Python 3 (ipykernel)",
   "language": "python",
   "name": "python3"
  },
  "language_info": {
   "codemirror_mode": {
    "name": "ipython",
    "version": 3
   },
   "file_extension": ".py",
   "mimetype": "text/x-python",
   "name": "python",
   "nbconvert_exporter": "python",
   "pygments_lexer": "ipython3",
   "version": "3.8.12"
  }
 },
 "nbformat": 4,
 "nbformat_minor": 5
}
